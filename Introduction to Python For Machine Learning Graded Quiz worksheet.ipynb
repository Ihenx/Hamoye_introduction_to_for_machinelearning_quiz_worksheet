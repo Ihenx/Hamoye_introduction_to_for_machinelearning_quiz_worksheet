{
 "cells": [
  {
   "cell_type": "code",
   "execution_count": 72,
   "id": "c83eada6",
   "metadata": {},
   "outputs": [],
   "source": [
    "import pandas as pd\n",
    "import numpy as np"
   ]
  },
  {
   "cell_type": "code",
   "execution_count": 73,
   "id": "89bab92d",
   "metadata": {},
   "outputs": [
    {
     "data": {
      "text/html": [
       "<div>\n",
       "<style scoped>\n",
       "    .dataframe tbody tr th:only-of-type {\n",
       "        vertical-align: middle;\n",
       "    }\n",
       "\n",
       "    .dataframe tbody tr th {\n",
       "        vertical-align: top;\n",
       "    }\n",
       "\n",
       "    .dataframe thead th {\n",
       "        text-align: right;\n",
       "    }\n",
       "</style>\n",
       "<table border=\"1\" class=\"dataframe\">\n",
       "  <thead>\n",
       "    <tr style=\"text-align: right;\">\n",
       "      <th></th>\n",
       "      <th>Area Code</th>\n",
       "      <th>Area</th>\n",
       "      <th>Item Code</th>\n",
       "      <th>Item</th>\n",
       "      <th>Element Code</th>\n",
       "      <th>Element</th>\n",
       "      <th>Unit</th>\n",
       "      <th>Y2014</th>\n",
       "      <th>Y2015</th>\n",
       "      <th>Y2016</th>\n",
       "      <th>Y2017</th>\n",
       "      <th>Y2018</th>\n",
       "    </tr>\n",
       "  </thead>\n",
       "  <tbody>\n",
       "    <tr>\n",
       "      <th>0</th>\n",
       "      <td>4</td>\n",
       "      <td>Algeria</td>\n",
       "      <td>2501</td>\n",
       "      <td>Population</td>\n",
       "      <td>511</td>\n",
       "      <td>Total Population - Both sexes</td>\n",
       "      <td>1000 persons</td>\n",
       "      <td>38924.00</td>\n",
       "      <td>39728.00</td>\n",
       "      <td>40551.00</td>\n",
       "      <td>41389.00</td>\n",
       "      <td>42228.00</td>\n",
       "    </tr>\n",
       "    <tr>\n",
       "      <th>1</th>\n",
       "      <td>4</td>\n",
       "      <td>Algeria</td>\n",
       "      <td>2501</td>\n",
       "      <td>Population</td>\n",
       "      <td>5301</td>\n",
       "      <td>Domestic supply quantity</td>\n",
       "      <td>1000 tonnes</td>\n",
       "      <td>0.00</td>\n",
       "      <td>0.00</td>\n",
       "      <td>0.00</td>\n",
       "      <td>0.00</td>\n",
       "      <td>0.00</td>\n",
       "    </tr>\n",
       "    <tr>\n",
       "      <th>2</th>\n",
       "      <td>4</td>\n",
       "      <td>Algeria</td>\n",
       "      <td>2901</td>\n",
       "      <td>Grand Total</td>\n",
       "      <td>664</td>\n",
       "      <td>Food supply (kcal/capita/day)</td>\n",
       "      <td>kcal/capita/day</td>\n",
       "      <td>3377.00</td>\n",
       "      <td>3379.00</td>\n",
       "      <td>3372.00</td>\n",
       "      <td>3341.00</td>\n",
       "      <td>3322.00</td>\n",
       "    </tr>\n",
       "    <tr>\n",
       "      <th>3</th>\n",
       "      <td>4</td>\n",
       "      <td>Algeria</td>\n",
       "      <td>2901</td>\n",
       "      <td>Grand Total</td>\n",
       "      <td>674</td>\n",
       "      <td>Protein supply quantity (g/capita/day)</td>\n",
       "      <td>g/capita/day</td>\n",
       "      <td>94.90</td>\n",
       "      <td>94.35</td>\n",
       "      <td>94.72</td>\n",
       "      <td>92.82</td>\n",
       "      <td>91.83</td>\n",
       "    </tr>\n",
       "    <tr>\n",
       "      <th>4</th>\n",
       "      <td>4</td>\n",
       "      <td>Algeria</td>\n",
       "      <td>2901</td>\n",
       "      <td>Grand Total</td>\n",
       "      <td>684</td>\n",
       "      <td>Fat supply quantity (g/capita/day)</td>\n",
       "      <td>g/capita/day</td>\n",
       "      <td>80.06</td>\n",
       "      <td>79.36</td>\n",
       "      <td>77.40</td>\n",
       "      <td>80.19</td>\n",
       "      <td>77.28</td>\n",
       "    </tr>\n",
       "  </tbody>\n",
       "</table>\n",
       "</div>"
      ],
      "text/plain": [
       "   Area Code     Area  Item Code         Item  Element Code  \\\n",
       "0          4  Algeria       2501   Population           511   \n",
       "1          4  Algeria       2501   Population          5301   \n",
       "2          4  Algeria       2901  Grand Total           664   \n",
       "3          4  Algeria       2901  Grand Total           674   \n",
       "4          4  Algeria       2901  Grand Total           684   \n",
       "\n",
       "                                  Element             Unit     Y2014  \\\n",
       "0           Total Population - Both sexes     1000 persons  38924.00   \n",
       "1                Domestic supply quantity      1000 tonnes      0.00   \n",
       "2           Food supply (kcal/capita/day)  kcal/capita/day   3377.00   \n",
       "3  Protein supply quantity (g/capita/day)     g/capita/day     94.90   \n",
       "4      Fat supply quantity (g/capita/day)     g/capita/day     80.06   \n",
       "\n",
       "      Y2015     Y2016     Y2017     Y2018  \n",
       "0  39728.00  40551.00  41389.00  42228.00  \n",
       "1      0.00      0.00      0.00      0.00  \n",
       "2   3379.00   3372.00   3341.00   3322.00  \n",
       "3     94.35     94.72     92.82     91.83  \n",
       "4     79.36     77.40     80.19     77.28  "
      ]
     },
     "execution_count": 73,
     "metadata": {},
     "output_type": "execute_result"
    }
   ],
   "source": [
    "# import the data\n",
    "df = pd.read_csv('FoodBalanceSheets_E_Africa_NOFLAG.csv',encoding='latin-1')\n",
    "df.head()"
   ]
  },
  {
   "cell_type": "markdown",
   "id": "f7b8e7cb",
   "metadata": {},
   "source": [
    "### 1. Which of the following dataframe methods can be used to access elements across rows and columns"
   ]
  },
  {
   "cell_type": "code",
   "execution_count": 74,
   "id": "f0165e63",
   "metadata": {},
   "outputs": [
    {
     "data": {
      "text/html": [
       "<div>\n",
       "<style scoped>\n",
       "    .dataframe tbody tr th:only-of-type {\n",
       "        vertical-align: middle;\n",
       "    }\n",
       "\n",
       "    .dataframe tbody tr th {\n",
       "        vertical-align: top;\n",
       "    }\n",
       "\n",
       "    .dataframe thead th {\n",
       "        text-align: right;\n",
       "    }\n",
       "</style>\n",
       "<table border=\"1\" class=\"dataframe\">\n",
       "  <thead>\n",
       "    <tr style=\"text-align: right;\">\n",
       "      <th></th>\n",
       "      <th>Area Code</th>\n",
       "      <th>Area</th>\n",
       "      <th>Item Code</th>\n",
       "      <th>Item</th>\n",
       "    </tr>\n",
       "  </thead>\n",
       "  <tbody>\n",
       "    <tr>\n",
       "      <th>0</th>\n",
       "      <td>4</td>\n",
       "      <td>Algeria</td>\n",
       "      <td>2501</td>\n",
       "      <td>Population</td>\n",
       "    </tr>\n",
       "    <tr>\n",
       "      <th>1</th>\n",
       "      <td>4</td>\n",
       "      <td>Algeria</td>\n",
       "      <td>2501</td>\n",
       "      <td>Population</td>\n",
       "    </tr>\n",
       "    <tr>\n",
       "      <th>2</th>\n",
       "      <td>4</td>\n",
       "      <td>Algeria</td>\n",
       "      <td>2901</td>\n",
       "      <td>Grand Total</td>\n",
       "    </tr>\n",
       "    <tr>\n",
       "      <th>3</th>\n",
       "      <td>4</td>\n",
       "      <td>Algeria</td>\n",
       "      <td>2901</td>\n",
       "      <td>Grand Total</td>\n",
       "    </tr>\n",
       "  </tbody>\n",
       "</table>\n",
       "</div>"
      ],
      "text/plain": [
       "   Area Code     Area  Item Code         Item\n",
       "0          4  Algeria       2501   Population\n",
       "1          4  Algeria       2501   Population\n",
       "2          4  Algeria       2901  Grand Total\n",
       "3          4  Algeria       2901  Grand Total"
      ]
     },
     "execution_count": 74,
     "metadata": {},
     "output_type": "execute_result"
    }
   ],
   "source": [
    "df.iloc[0:4,0:4]"
   ]
  },
  {
   "cell_type": "markdown",
   "id": "0c8836e7",
   "metadata": {},
   "source": [
    "from the above dataframe, i was able to use the iloc pandas method to access the rows and columns of the dataframe."
   ]
  },
  {
   "cell_type": "markdown",
   "id": "faa09501",
   "metadata": {},
   "source": [
    "### 2.Perform a groupby operation on 'Element': what is the total numberof the sum of processing in 2017"
   ]
  },
  {
   "cell_type": "code",
   "execution_count": 75,
   "id": "27889b7b",
   "metadata": {},
   "outputs": [
    {
     "data": {
      "text/plain": [
       "292836.0"
      ]
     },
     "execution_count": 75,
     "metadata": {},
     "output_type": "execute_result"
    }
   ],
   "source": [
    "element_df = df.groupby('Element')['Y2017'].sum()\n",
    "element_df['Processing']"
   ]
  },
  {
   "cell_type": "markdown",
   "id": "c5d8f90b",
   "metadata": {},
   "source": [
    "### 3. How would you check the number of  rows and columns in a pandas DataFrame named df?"
   ]
  },
  {
   "cell_type": "code",
   "execution_count": 76,
   "id": "b5f364a4",
   "metadata": {},
   "outputs": [
    {
     "data": {
      "text/plain": [
       "(60943, 12)"
      ]
     },
     "execution_count": 76,
     "metadata": {},
     "output_type": "execute_result"
    }
   ],
   "source": [
    "df.shape"
   ]
  },
  {
   "cell_type": "markdown",
   "id": "9b113d53",
   "metadata": {},
   "source": [
    "The above shows the dataframe has about 60943 rows and 12 columns"
   ]
  },
  {
   "cell_type": "markdown",
   "id": "65bce87e",
   "metadata": {},
   "source": [
    "### 4. Select the columns 'Y2017' and Area. Perform a groupby operation on area. Which of these A had the 7 lowest sum in 2017"
   ]
  },
  {
   "cell_type": "code",
   "execution_count": 77,
   "id": "4b47426c",
   "metadata": {},
   "outputs": [
    {
     "data": {
      "text/plain": [
       "Area\n",
       "Sudan (former)               0.00\n",
       "Ethiopia PDR                 0.00\n",
       "Comoros                     59.84\n",
       "Seychelles                 442.34\n",
       "Sao Tome and Principe    12662.63\n",
       "Cabo Verde               14650.74\n",
       "Guinea-Bissau            19102.77\n",
       "Name: Y2017, dtype: float64"
      ]
     },
     "execution_count": 77,
     "metadata": {},
     "output_type": "execute_result"
    }
   ],
   "source": [
    "df.groupby('Area')['Y2017'].sum().sort_values().head(7)"
   ]
  },
  {
   "cell_type": "code",
   "execution_count": 78,
   "id": "4511f9a7",
   "metadata": {},
   "outputs": [
    {
     "data": {
      "text/plain": [
       "Y2017    Guinea-Bissau\n",
       "dtype: object"
      ]
     },
     "execution_count": 78,
     "metadata": {},
     "output_type": "execute_result"
    }
   ],
   "source": [
    "## Alternatively\n",
    "Y_2017_df=df.groupby('Area').agg({'Y2017':sum}).nsmallest(7,'Y2017')\n",
    "Y_2017_df= Y_2017_df.idxmax()\n",
    "Y_2017_df"
   ]
  },
  {
   "cell_type": "markdown",
   "id": "96383c35",
   "metadata": {},
   "source": [
    "### 5 Consider the following  list tuples\n"
   ]
  },
  {
   "cell_type": "code",
   "execution_count": 79,
   "id": "c614cb23",
   "metadata": {},
   "outputs": [
    {
     "data": {
      "text/plain": [
       "8"
      ]
     },
     "execution_count": 79,
     "metadata": {},
     "output_type": "execute_result"
    }
   ],
   "source": [
    "y = [(2,4),(7,8),(1,5,9)]\n",
    "x=y[1][1]\n",
    "x"
   ]
  },
  {
   "cell_type": "markdown",
   "id": "5e270e22",
   "metadata": {},
   "source": [
    "### 6.What would the output of the following be?"
   ]
  },
  {
   "cell_type": "code",
   "execution_count": 80,
   "id": "5af80747",
   "metadata": {},
   "outputs": [
    {
     "data": {
      "text/plain": [
       "'e'"
      ]
     },
     "execution_count": 80,
     "metadata": {},
     "output_type": "execute_result"
    }
   ],
   "source": [
    "s = [['him','sell'],[90,28,43]]\n",
    "s[0][1][1]"
   ]
  },
  {
   "cell_type": "markdown",
   "id": "473c517a",
   "metadata": {},
   "source": [
    "###  7.A pandas DataFrame with dimensions (100,3) has how many features and observations?\n",
    "\n",
    "answer: this means the dataframe has about 100 obeservations(rows) and 3 features(columns)"
   ]
  },
  {
   "cell_type": "markdown",
   "id": "200f5694",
   "metadata": {},
   "source": [
    "### 8. "
   ]
  },
  {
   "cell_type": "code",
   "execution_count": 81,
   "id": "c8eefae7",
   "metadata": {},
   "outputs": [
    {
     "data": {
      "text/plain": [
       "array([[89, 63],\n",
       "       [92, 94]])"
      ]
     },
     "execution_count": 81,
     "metadata": {},
     "output_type": "execute_result"
    }
   ],
   "source": [
    "array = np.array([[94,89,63],[93,92,94],[92,94,96]])\n",
    "array[:2,1:]"
   ]
  },
  {
   "cell_type": "markdown",
   "id": "70f4580b",
   "metadata": {},
   "source": [
    "### 9. What is the total protein supply quantity in Madagascar in 2015"
   ]
  },
  {
   "cell_type": "code",
   "execution_count": 82,
   "id": "c66a24ed",
   "metadata": {},
   "outputs": [],
   "source": [
    "## filter the madagascar from the  the Area column\n",
    "madagascar_df = df[df['Area']=='Madagascar']\n"
   ]
  },
  {
   "cell_type": "code",
   "execution_count": 83,
   "id": "1a7a96bb",
   "metadata": {},
   "outputs": [
    {
     "data": {
      "text/plain": [
       "173.05"
      ]
     },
     "execution_count": 83,
     "metadata": {},
     "output_type": "execute_result"
    }
   ],
   "source": [
    "madagascar_df=madagascar_df.groupby('Element')['Y2015'].sum()\n",
    "madagascar_df['Protein supply quantity (g/capita/day)']"
   ]
  },
  {
   "cell_type": "markdown",
   "id": "69db1622",
   "metadata": {},
   "source": [
    "###  10. Which year had the least correlation with 'Element Code'"
   ]
  },
  {
   "cell_type": "code",
   "execution_count": 84,
   "id": "9450495f",
   "metadata": {},
   "outputs": [
    {
     "data": {
      "text/plain": [
       "Item Code      -0.024683\n",
       "Area Code      -0.000209\n",
       "Y2016           0.023444\n",
       "Y2015           0.023889\n",
       "Y2017           0.024254\n",
       "Y2018           0.024279\n",
       "Y2014           0.024457\n",
       "Element Code    1.000000\n",
       "Name: Element Code, dtype: float64"
      ]
     },
     "execution_count": 84,
     "metadata": {},
     "output_type": "execute_result"
    }
   ],
   "source": [
    "df.corr()['Element Code'].sort_values()"
   ]
  },
  {
   "cell_type": "markdown",
   "id": "423cd0b1",
   "metadata": {},
   "source": [
    "###  11. What is the total number and percentage of missing data in 2014 to 3 decimal places?"
   ]
  },
  {
   "cell_type": "code",
   "execution_count": 85,
   "id": "5bd9c5e5",
   "metadata": {},
   "outputs": [
    {
     "data": {
      "text/plain": [
       "7614"
      ]
     },
     "execution_count": 85,
     "metadata": {},
     "output_type": "execute_result"
    }
   ],
   "source": [
    "# find the total missing values in the dataFrame\n",
    "total_missing = df.isnull().sum().sum()\n",
    "total_missing"
   ]
  },
  {
   "cell_type": "code",
   "execution_count": 86,
   "id": "4256aad1",
   "metadata": {},
   "outputs": [],
   "source": [
    "# Find rthe total missing values in Y2014 column\n",
    "y2014_missing=df.isnull().sum()\n",
    "y2014_missing=y2014_missing['Y2014']"
   ]
  },
  {
   "cell_type": "code",
   "execution_count": 87,
   "id": "44a2a678",
   "metadata": {},
   "outputs": [
    {
     "data": {
      "text/plain": [
       "20.869"
      ]
     },
     "execution_count": 87,
     "metadata": {},
     "output_type": "execute_result"
    }
   ],
   "source": [
    "# find the percentage of the missing value of each column\n",
    "percentage_y2014_missing=round((df.isnull().sum()/total_missing) * 100,3)\n",
    "\n",
    "# select the percentage of missing value in Y2014 using \n",
    "percentage_y2014_missing=percentage_y2014_missing.Y2014\n",
    "percentage_y2014_missing"
   ]
  },
  {
   "cell_type": "code",
   "execution_count": 88,
   "id": "b811ff28",
   "metadata": {},
   "outputs": [
    {
     "name": "stdout",
     "output_type": "stream",
     "text": [
      "1589 and 20.869%\n"
     ]
    }
   ],
   "source": [
    "print('{0} and {1}%'.format(y2014_missing,percentage_y2014_missing))"
   ]
  },
  {
   "cell_type": "code",
   "execution_count": null,
   "id": "9d29cead",
   "metadata": {},
   "outputs": [],
   "source": []
  },
  {
   "cell_type": "markdown",
   "id": "da75ee76",
   "metadata": {},
   "source": [
    "### 12 .Perform the groupby operation on Element"
   ]
  },
  {
   "cell_type": "code",
   "execution_count": 89,
   "id": "c6c867a8",
   "metadata": {},
   "outputs": [
    {
     "data": {
      "text/plain": [
       "['Y2014', 'Y2015', 'Y2016', 'Y2017', 'Y2018']"
      ]
     },
     "execution_count": 89,
     "metadata": {},
     "output_type": "execute_result"
    }
   ],
   "source": [
    "''' create a list comprehension, looping through the df.columns.\n",
    "    Since only the year column starts with the alphabet 'Y'.Include a a condition\n",
    "    on the loop to select only the  columns that starts with 'Y' using the startswith\n",
    "     function.\n",
    "     \n",
    "'''\n",
    "year_columns = [col for col in df.columns if col.startswith('Y')]\n",
    "year_columns"
   ]
  },
  {
   "cell_type": "code",
   "execution_count": 90,
   "id": "34de5f74",
   "metadata": {},
   "outputs": [
    {
     "data": {
      "text/plain": [
       "Y2014    58749.83\n",
       "Y2015    34910.99\n",
       "Y2016    33140.12\n",
       "Y2017    54316.91\n",
       "Y2018    20577.91\n",
       "Name: Stock Variation, dtype: float64"
      ]
     },
     "execution_count": 90,
     "metadata": {},
     "output_type": "execute_result"
    }
   ],
   "source": [
    "element_df = df.groupby('Element')[year_columns].sum()\n",
    "stock_variation_sum = element_df.loc['Stock Variation']\n",
    "stock_variation_sum"
   ]
  },
  {
   "cell_type": "code",
   "execution_count": 91,
   "id": "c64481a9",
   "metadata": {},
   "outputs": [
    {
     "data": {
      "text/plain": [
       "'Y2014'"
      ]
     },
     "execution_count": 91,
     "metadata": {},
     "output_type": "execute_result"
    }
   ],
   "source": [
    "year_with_highest_sum_stock_variation =stock_variation_sum.idxmax()\n",
    "year_with_highest_sum_stock_variation"
   ]
  },
  {
   "cell_type": "markdown",
   "id": "352727f5",
   "metadata": {},
   "source": [
    "### 13.  What is the total sum of wine produced in 2015 and 2018"
   ]
  },
  {
   "cell_type": "code",
   "execution_count": 92,
   "id": "90c9f942",
   "metadata": {},
   "outputs": [
    {
     "data": {
      "text/plain": [
       "Y2015    4251.81\n",
       "Y2018    4039.32\n",
       "Name: Wine, dtype: float64"
      ]
     },
     "execution_count": 92,
     "metadata": {},
     "output_type": "execute_result"
    }
   ],
   "source": [
    "wine_df =df.groupby('Item')[['Y2015','Y2018']].sum()\n",
    "wine_df.loc['Wine']"
   ]
  },
  {
   "cell_type": "markdown",
   "id": "fce23593",
   "metadata": {},
   "source": [
    "### 14. What is the total number of unique countries in the datasets\n"
   ]
  },
  {
   "cell_type": "code",
   "execution_count": 93,
   "id": "22fe0703",
   "metadata": {},
   "outputs": [
    {
     "data": {
      "text/plain": [
       "49"
      ]
     },
     "execution_count": 93,
     "metadata": {},
     "output_type": "execute_result"
    }
   ],
   "source": [
    "df.Area.nunique()"
   ]
  },
  {
   "cell_type": "code",
   "execution_count": 94,
   "id": "b3fa6a49",
   "metadata": {},
   "outputs": [
    {
     "data": {
      "text/plain": [
       "49"
      ]
     },
     "execution_count": 94,
     "metadata": {},
     "output_type": "execute_result"
    }
   ],
   "source": [
    "#Alternatively\n",
    "len(df.Area.unique())"
   ]
  },
  {
   "cell_type": "markdown",
   "id": "4981556e",
   "metadata": {},
   "source": [
    "### 15. Select columns 'Y2017' and 'Area'.Perform a groupby operation on the area.Which of these Area had the highest sum."
   ]
  },
  {
   "cell_type": "code",
   "execution_count": 95,
   "id": "5819b8aa",
   "metadata": {},
   "outputs": [
    {
     "name": "stdout",
     "output_type": "stream",
     "text": [
      "Nigeria :1483268.23\n"
     ]
    }
   ],
   "source": [
    "y_2017_df = df.groupby('Area')['Y2017'].sum().sort_values(ascending=False)\n",
    "print('{0} :{1}'.format(y_2017_df.idxmax(), y_2017_df.max()))"
   ]
  },
  {
   "cell_type": "markdown",
   "id": "2d3e72fe",
   "metadata": {},
   "source": [
    "### 16. What would the output of the code below give?"
   ]
  },
  {
   "cell_type": "code",
   "execution_count": 96,
   "id": "68d846dc",
   "metadata": {},
   "outputs": [
    {
     "ename": "TypeError",
     "evalue": "'tuple' object does not support item assignment",
     "output_type": "error",
     "traceback": [
      "\u001b[1;31m---------------------------------------------------------------------------\u001b[0m",
      "\u001b[1;31mTypeError\u001b[0m                                 Traceback (most recent call last)",
      "\u001b[1;32mC:\\Users\\GODSPO~1\\AppData\\Local\\Temp/ipykernel_1892/3826760844.py\u001b[0m in \u001b[0;36m<module>\u001b[1;34m\u001b[0m\n\u001b[0;32m      1\u001b[0m \u001b[0mmy_tuple\u001b[0m \u001b[1;33m=\u001b[0m \u001b[1;33m(\u001b[0m\u001b[1;36m1\u001b[0m\u001b[1;33m,\u001b[0m\u001b[1;36m2\u001b[0m\u001b[1;33m,\u001b[0m\u001b[1;36m5\u001b[0m\u001b[1;33m,\u001b[0m\u001b[1;36m8\u001b[0m\u001b[1;33m)\u001b[0m\u001b[1;33m\u001b[0m\u001b[1;33m\u001b[0m\u001b[0m\n\u001b[1;32m----> 2\u001b[1;33m \u001b[0mmy_tuple\u001b[0m\u001b[1;33m[\u001b[0m\u001b[1;36m2\u001b[0m\u001b[1;33m]\u001b[0m\u001b[1;33m=\u001b[0m \u001b[1;36m6\u001b[0m\u001b[1;33m\u001b[0m\u001b[1;33m\u001b[0m\u001b[0m\n\u001b[0m",
      "\u001b[1;31mTypeError\u001b[0m: 'tuple' object does not support item assignment"
     ]
    }
   ],
   "source": [
    "my_tuple = (1,2,5,8)\n",
    "my_tuple[2]= 6"
   ]
  },
  {
   "cell_type": "markdown",
   "id": "071bf3d0",
   "metadata": {},
   "source": [
    "The above error occurs because tuples are immutable. This means once the content of the tuple is declared, the content can no longer be modified."
   ]
  },
  {
   "cell_type": "code",
   "execution_count": null,
   "id": "c8254073",
   "metadata": {},
   "outputs": [],
   "source": []
  },
  {
   "cell_type": "markdown",
   "id": "528a2b7c",
   "metadata": {},
   "source": [
    "### 17. What is  the mean and Standard deviation accross he whole data set for the whole year to 2 decimal places."
   ]
  },
  {
   "cell_type": "code",
   "execution_count": 97,
   "id": "0c2b6561",
   "metadata": {},
   "outputs": [
    {
     "data": {
      "text/plain": [
       "140.92"
      ]
     },
     "execution_count": 97,
     "metadata": {},
     "output_type": "execute_result"
    }
   ],
   "source": [
    "y2017_mean=round(df.Y2017.mean(),2)\n",
    "y2017_mean"
   ]
  },
  {
   "cell_type": "code",
   "execution_count": 98,
   "id": "a0aa1ead",
   "metadata": {},
   "outputs": [
    {
     "data": {
      "text/plain": [
       "1671.86"
      ]
     },
     "execution_count": 98,
     "metadata": {},
     "output_type": "execute_result"
    }
   ],
   "source": [
    "y2017_std= round(df.Y2017.std(),2)\n",
    "y2017_std"
   ]
  },
  {
   "cell_type": "markdown",
   "id": "1aa60518",
   "metadata": {},
   "source": [
    "###   18."
   ]
  },
  {
   "cell_type": "code",
   "execution_count": 102,
   "id": "5d216949",
   "metadata": {},
   "outputs": [],
   "source": [
    "lst = [[35,'Portugal',94],[33,'Argentina',93],[30,'Brazil',92]]\n",
    "col = ['Age','Nationality','Overall']"
   ]
  },
  {
   "cell_type": "code",
   "execution_count": 103,
   "id": "782f0e9b",
   "metadata": {},
   "outputs": [],
   "source": [
    "df = pd.DataFrame(lst,columns=col,index=[1,2,3])"
   ]
  },
  {
   "cell_type": "code",
   "execution_count": 104,
   "id": "74f215d6",
   "metadata": {},
   "outputs": [
    {
     "data": {
      "text/html": [
       "<div>\n",
       "<style scoped>\n",
       "    .dataframe tbody tr th:only-of-type {\n",
       "        vertical-align: middle;\n",
       "    }\n",
       "\n",
       "    .dataframe tbody tr th {\n",
       "        vertical-align: top;\n",
       "    }\n",
       "\n",
       "    .dataframe thead th {\n",
       "        text-align: right;\n",
       "    }\n",
       "</style>\n",
       "<table border=\"1\" class=\"dataframe\">\n",
       "  <thead>\n",
       "    <tr style=\"text-align: right;\">\n",
       "      <th></th>\n",
       "      <th>Age</th>\n",
       "      <th>Nationality</th>\n",
       "      <th>Overall</th>\n",
       "    </tr>\n",
       "  </thead>\n",
       "  <tbody>\n",
       "    <tr>\n",
       "      <th>1</th>\n",
       "      <td>35</td>\n",
       "      <td>Portugal</td>\n",
       "      <td>94</td>\n",
       "    </tr>\n",
       "    <tr>\n",
       "      <th>2</th>\n",
       "      <td>33</td>\n",
       "      <td>Argentina</td>\n",
       "      <td>93</td>\n",
       "    </tr>\n",
       "    <tr>\n",
       "      <th>3</th>\n",
       "      <td>30</td>\n",
       "      <td>Brazil</td>\n",
       "      <td>92</td>\n",
       "    </tr>\n",
       "  </tbody>\n",
       "</table>\n",
       "</div>"
      ],
      "text/plain": [
       "   Age Nationality  Overall\n",
       "1   35    Portugal       94\n",
       "2   33   Argentina       93\n",
       "3   30      Brazil       92"
      ]
     },
     "execution_count": 104,
     "metadata": {},
     "output_type": "execute_result"
    }
   ],
   "source": [
    "df"
   ]
  },
  {
   "cell_type": "code",
   "execution_count": null,
   "id": "728e391f",
   "metadata": {},
   "outputs": [],
   "source": []
  },
  {
   "cell_type": "code",
   "execution_count": null,
   "id": "369bb24b",
   "metadata": {},
   "outputs": [],
   "source": []
  }
 ],
 "metadata": {
  "kernelspec": {
   "display_name": "Python 3",
   "language": "python",
   "name": "python3"
  },
  "language_info": {
   "codemirror_mode": {
    "name": "ipython",
    "version": 3
   },
   "file_extension": ".py",
   "mimetype": "text/x-python",
   "name": "python",
   "nbconvert_exporter": "python",
   "pygments_lexer": "ipython3",
   "version": "3.9.7"
  }
 },
 "nbformat": 4,
 "nbformat_minor": 5
}
